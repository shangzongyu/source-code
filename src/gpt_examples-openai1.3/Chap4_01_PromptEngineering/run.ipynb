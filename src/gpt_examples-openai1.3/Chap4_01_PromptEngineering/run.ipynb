{
 "cells": [
  {
   "cell_type": "code",
   "execution_count": 3,
   "metadata": {},
   "outputs": [],
   "source": [
    "from dotenv import load_dotenv\n",
    "\n",
    "load_dotenv()\n",
    "from openai import OpenAI\n",
    "\n",
    "client = OpenAI()\n",
    "\n",
    "def chat_completion(prompt, model=\"gpt-4\", temperature=0):\n",
    "    res = client.chat.completions.create(\n",
    "        model=model,\n",
    "        messages=[{\"role\": \"user\", \"content\": prompt}],\n",
    "        temperature=temperature,\n",
    "    )\n",
    "    print(res.choices[0].message.content)\n",
    "\n"
   ]
  },
  {
   "attachments": {},
   "cell_type": "markdown",
   "metadata": {},
   "source": [
    "## Context, task and role"
   ]
  },
  {
   "cell_type": "code",
   "execution_count": 4,
   "metadata": {},
   "outputs": [
    {
     "name": "stdout",
     "output_type": "stream",
     "text": [
      "How about grilled chicken with roasted vegetables and quinoa? It's a healthy and delicious option.\n"
     ]
    }
   ],
   "source": [
    "\n",
    "chat_completion(\"Give me a suggestion for the main course for today's lunch.\")"
   ]
  },
  {
   "cell_type": "code",
   "execution_count": 6,
   "metadata": {},
   "outputs": [
    {
     "name": "stdout",
     "output_type": "stream",
     "text": [
      "How about a hearty Chickpea Curry with brown rice? It's packed with protein and fiber, and you can add in other colorful vegetables like bell peppers, tomatoes, and carrots to make up for the lack of green vegetables. You can also add some tofu for extra protein.\n"
     ]
    }
   ],
   "source": [
    "prompt = \"\"\"\n",
    "Context: I do 2 hours of sport a day. I am vegetarian, and I don't like green \n",
    "vegetables. I am conscientious about eating healthily. \n",
    "Task: Give me a suggestion for a main course for today's lunch.\"\"\"\n",
    "chat_completion(prompt)"
   ]
  },
  {
   "cell_type": "code",
   "execution_count": 7,
   "metadata": {},
   "outputs": [
    {
     "name": "stdout",
     "output_type": "stream",
     "text": [
      "1. What types of sports do you engage in daily? \n",
      "2. Are there any specific vegetarian foods you prefer or dislike, apart from green vegetables?\n",
      "3. Do you have any allergies or intolerances to certain foods?\n",
      "4. Do you prefer a specific cuisine or are you open to trying different ones?\n",
      "5. Are you looking for a high-protein meal to support your sports activities?\n",
      "6. Do you prefer hot or cold meals for lunch?\n",
      "7. Are there any specific nutritional requirements or goals you are aiming for with your meals?\n"
     ]
    }
   ],
   "source": [
    "prompt = \"\"\"\n",
    "Context: I do 2 hours of sport a day. I am vegetarian and I don't like green \n",
    "vegetables. I am very careful to eat healthily.\n",
    "Task: Give me a suggestion for a main course for today's lunch?\n",
    "Do not perform the requested task! Instead, can you ask me questions about the \n",
    "context so that when I answer, you can perform the requested task more\n",
    "efficiently?\n",
    "\"\"\"\n",
    "chat_completion(prompt)"
   ]
  },
  {
   "cell_type": "code",
   "execution_count": 8,
   "metadata": {},
   "outputs": [
    {
     "name": "stdout",
     "output_type": "stream",
     "text": [
      "Main Course Suggestion: Vegetarian Quinoa Stir-Fry\n",
      "\n",
      "| Ingredient Name | Quantity (in grams) |\n",
      "|-----------------|---------------------|\n",
      "| Quinoa          | 185                 |\n",
      "| Olive Oil       | 15                  |\n",
      "| Garlic          | 10                  |\n",
      "| Onion           | 70                  |\n",
      "| Bell Peppers    | 75                  |\n",
      "| Carrots         | 60                  |\n",
      "| Mushrooms       | 50                  |\n",
      "| Tofu            | 100                 |\n",
      "| Soy Sauce       | 30                  |\n",
      "| Sesame Seeds    | 10                  |\n"
     ]
    }
   ],
   "source": [
    "prompt = \"\"\"\n",
    "Context: I do 2 hours of sport a day. I am vegetarian, and I don't like green \n",
    "vegetables. I am conscientious about eating healthily.\n",
    "Task: Give me a suggestion for a main course for today's lunch.\n",
    "With this suggestion, I also want a table with two columns where each row \n",
    "contains an ingredient from the main course.\n",
    "The first column in the table is the name of the ingredient.\n",
    "The second column of the table is the number of grams of that ingredient needed \n",
    "for one person. Do not give the recipe for preparing the main course.\n",
    "\"\"\"\n",
    "chat_completion(prompt)"
   ]
  },
  {
   "cell_type": "code",
   "execution_count": 9,
   "metadata": {},
   "outputs": [
    {
     "name": "stdout",
     "output_type": "stream",
     "text": [
      "Main Course Suggestion: Quinoa and Black Bean Salad\n",
      "\n",
      "| Ingredient | Quantity (grams) |\n",
      "|------------|------------------|\n",
      "| Quinoa     | 185              |\n",
      "| Black Beans| 130              |\n",
      "| Corn       | 80               |\n",
      "| Red Bell Pepper | 75         |\n",
      "| Avocado    | 150              |\n",
      "| Cherry Tomatoes | 100        |\n",
      "| Red Onion  | 50               |\n",
      "| Cilantro   | 15               |\n",
      "| Lime Juice | 30               |\n",
      "| Olive Oil  | 15               |\n",
      "| Salt       | 5                |\n",
      "| Black Pepper | 2             |\n"
     ]
    }
   ],
   "source": [
    "prompt = \"\"\"\n",
    "Role: You are a nutritionist designing healthy diets for high-performance athletes. You take into account the nutrition needed for a good recovery.\n",
    "Context: I do 2 hours of sport a day. I am vegetarian, and I don't like green vegetables. I am conscientious about eating healthily.\n",
    "Task: Based on your expertise defined in your role. Give me a suggestion for a main course for today's lunch. \n",
    "With this suggestion, I also want a table with two columns where each row in the table contains an ingredient from the main course.\n",
    "The first column in the table is the name of the ingredient.\n",
    "The second column of the table is the number of grams of that ingredient needed for one person. \n",
    "Do not give the recipe for preparing the main course.\n",
    "\"\"\"\n",
    "chat_completion(prompt)\n"
   ]
  },
  {
   "attachments": {},
   "cell_type": "markdown",
   "metadata": {},
   "source": [
    "## Thinking Step by Step"
   ]
  },
  {
   "cell_type": "code",
   "execution_count": 10,
   "metadata": {},
   "outputs": [
    {
     "name": "stdout",
     "output_type": "stream",
     "text": [
      "455415\n"
     ]
    }
   ],
   "source": [
    "prompt = \"How much is 369 * 1235?\"\n",
    "chat_completion(prompt)\n"
   ]
  },
  {
   "cell_type": "code",
   "execution_count": 11,
   "metadata": {},
   "outputs": [
    {
     "name": "stdout",
     "output_type": "stream",
     "text": [
      "Step 1: Multiply 369 by 5. The result is 1845.\n",
      "Step 2: Multiply 369 by 30 (which is 3*10). The result is 11070.\n",
      "Step 3: Multiply 369 by 2000 (which is 2*1000). The result is 738000.\n",
      "Step 4: Add the results from steps 1, 2, and 3. \n",
      "\n",
      "So, 1845 + 11070 + 738000 = 455,415. \n",
      "\n",
      "Therefore, 369 * 1235 = 455,415.\n"
     ]
    }
   ],
   "source": [
    "prompt = \"How much is 369 * 1235 ? Let's think step by step.\"\n",
    "chat_completion(prompt)\n"
   ]
  },
  {
   "attachments": {},
   "cell_type": "markdown",
   "metadata": {},
   "source": [
    "## Few Shot Learning "
   ]
  },
  {
   "cell_type": "code",
   "execution_count": 12,
   "metadata": {},
   "outputs": [
    {
     "name": "stdout",
     "output_type": "stream",
     "text": [
      "The 👦 ✍️ a 💌 to a 👧\n"
     ]
    }
   ],
   "source": [
    "prompt = \"\"\"\n",
    "I go home --> 😊 go 🏠\n",
    "my dog is sad --> my 🐶 is 😞\n",
    "I run fast --> 😊 run ⚡\n",
    "I love my wife --> 😊 ❤️ my wife\n",
    "the girl plays with the ball --> the 👧 🎮 with the 🏀\n",
    "The boy writes a letter to a girl --> \n",
    "\"\"\"\n",
    "chat_completion(prompt)\n"
   ]
  }
 ],
 "metadata": {
  "kernelspec": {
   "display_name": ".venv",
   "language": "python",
   "name": "python3"
  },
  "language_info": {
   "codemirror_mode": {
    "name": "ipython",
    "version": 3
   },
   "file_extension": ".py",
   "mimetype": "text/x-python",
   "name": "python",
   "nbconvert_exporter": "python",
   "pygments_lexer": "ipython3",
   "version": "3.8.10"
  },
  "orig_nbformat": 4
 },
 "nbformat": 4,
 "nbformat_minor": 2
}
